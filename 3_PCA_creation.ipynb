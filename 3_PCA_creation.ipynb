{
 "cells": [
  {
   "cell_type": "code",
   "execution_count": 1,
   "metadata": {},
   "outputs": [],
   "source": [
    "import pandas as pd\n",
    "from sklearn.feature_extraction.text import TfidfVectorizer\n",
    "from sklearn.decomposition import TruncatedSVD\n",
    "from sklearn.decomposition import SparsePCA"
   ]
  },
  {
   "cell_type": "code",
   "execution_count": 5,
   "metadata": {},
   "outputs": [],
   "source": [
    "df = pd.read_pickle('c:/users/tyler/desktop/texts_docs.pkl')\n",
    "df = df['tokenize_text']\n",
    "vectorizer = TfidfVectorizer(ngram_range=(1, 2), stop_words='english', min_df=5, max_df=0.8)\n",
    "tfidf = vectorizer.fit_transform(df)\n",
    "# pd.DataFrame(doc_word.toarray(), index=df, columns=vectorizer.get_feature_names())"
   ]
  },
  {
   "cell_type": "code",
   "execution_count": 6,
   "metadata": {},
   "outputs": [],
   "source": [
    "reducer = SparsePCA(n_components=2)\n",
    "reduced_X = reducer.fit_transform(tfidf.toarray())"
   ]
  },
  {
   "cell_type": "code",
   "execution_count": 7,
   "metadata": {},
   "outputs": [],
   "source": [
    "pd.to_pickle(reduced_X, 'c:/users/tyler/desktop/reduced_X.pkl')"
   ]
  },
  {
   "cell_type": "code",
   "execution_count": 8,
   "metadata": {},
   "outputs": [
    {
     "data": {
      "text/plain": [
       "array([[-0.0129161 ,  0.01384394],\n",
       "       [-0.0129161 ,  0.01384394],\n",
       "       [ 0.330457  ,  0.01384394],\n",
       "       ...,\n",
       "       [-0.0129161 ,  0.01384394],\n",
       "       [-0.0129161 ,  0.01384394],\n",
       "       [-0.0129161 ,  0.01384394]])"
      ]
     },
     "execution_count": 8,
     "metadata": {},
     "output_type": "execute_result"
    }
   ],
   "source": [
    "reduced_X"
   ]
  }
 ],
 "metadata": {
  "kernelspec": {
   "display_name": "Python [conda env:metis] *",
   "language": "python",
   "name": "conda-env-metis-py"
  },
  "language_info": {
   "codemirror_mode": {
    "name": "ipython",
    "version": 3
   },
   "file_extension": ".py",
   "mimetype": "text/x-python",
   "name": "python",
   "nbconvert_exporter": "python",
   "pygments_lexer": "ipython3",
   "version": "3.7.6"
  }
 },
 "nbformat": 4,
 "nbformat_minor": 4
}
