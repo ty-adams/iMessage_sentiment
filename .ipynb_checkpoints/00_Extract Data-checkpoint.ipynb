{
 "cells": [
  {
   "cell_type": "markdown",
   "metadata": {},
   "source": [
    "This portion copied from a GitHub repo  \n",
    "https://github.com/yortos/imessage-analysis"
   ]
  },
  {
   "cell_type": "code",
   "execution_count": null,
   "metadata": {},
   "outputs": [],
   "source": [
    "# find your chat.db and establish a connection\n",
    "conn = sqlite3.connect('/Users/tyleradams/Library/Messages/chat.db')\n",
    "cur = conn.cursor()\n",
    "\n",
    "# query the database to get all the table names\n",
    "cur.execute(\" select name from sqlite_master where type = 'table' \")\n",
    "\n",
    "# create pandas dataframe with all the tables you care about.\n",
    "messages = pd.read_sql_query('''select *, datetime(date/1000000000 + strftime(\"%s\", \"2001-01-01\") ,\"unixepoch\",\"localtime\")  as date_utc from message''', conn) \n",
    "\n",
    "handles = pd.read_sql_query(\"select * from handle\", conn)\n",
    "chat_message_joins = pd.read_sql_query(\"select * from chat_message_join\", conn)\n",
    "\n",
    "# these fields are only for ease of datetime analysis (e.g., number of messages per month or year)\n",
    "messages['message_date'] = messages['date']\n",
    "messages['timestamp'] = messages['date_utc'].apply(lambda x: pd.Timestamp(x))\n",
    "messages['date'] = messages['timestamp'].apply(lambda x: x.date())\n",
    "messages['month'] = messages['timestamp'].apply(lambda x: int(x.month))\n",
    "messages['year'] = messages['timestamp'].apply(lambda x: int(x.year))\n",
    "\n",
    "\n",
    "# rename the ROWID into message_id, because that's what it is\n",
    "messages.rename(columns={'ROWID' : 'message_id'}, inplace = True)\n",
    "\n",
    "# rename appropriately the handle and apple_id/phone_number as well\n",
    "handles.rename(columns={'id' : 'phone_number', 'ROWID': 'handle_id'}, inplace = True)\n",
    "\n",
    "# merge the messages with the handles\n",
    "merge_level_1 = pd.merge(messages[['text', 'handle_id', 'date','message_date' ,'timestamp', 'month','year','is_sent', 'message_id']],  handles[['handle_id', 'phone_number']], on ='handle_id', how='left')\n",
    "\n",
    "# and then that table with the chats\n",
    "df_messages = pd.merge(merge_level_1, chat_message_joins[['chat_id', 'message_id']], on = 'message_id', how='left')\n",
    "\n",
    "\n",
    "print(len(df_messages))\n",
    "\n",
    "# save the combined table for ease of read for future analysis!\n",
    "df_messages.to_csv('./imessages_high_sierra.csv', index = False, encoding='utf-8')"
   ]
  }
 ],
 "metadata": {
  "kernelspec": {
   "display_name": "Python [conda env:metis] *",
   "language": "python",
   "name": "conda-env-metis-py"
  },
  "language_info": {
   "codemirror_mode": {
    "name": "ipython",
    "version": 3
   },
   "file_extension": ".py",
   "mimetype": "text/x-python",
   "name": "python",
   "nbconvert_exporter": "python",
   "pygments_lexer": "ipython3",
   "version": "3.7.6"
  }
 },
 "nbformat": 4,
 "nbformat_minor": 4
}
